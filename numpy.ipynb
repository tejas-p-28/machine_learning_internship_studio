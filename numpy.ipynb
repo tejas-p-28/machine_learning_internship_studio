{
 "cells": [
  {
   "cell_type": "code",
   "execution_count": 4,
   "id": "5b40c0b1-d380-43a5-ac69-c30f2fc4e1de",
   "metadata": {},
   "outputs": [
    {
     "name": "stdout",
     "output_type": "stream",
     "text": [
      "[1, 2, 3, 4, 5, 6, 7, 8, 9, 10]\n"
     ]
    }
   ],
   "source": [
    "#creating numpy\n",
    "l = list(range(1,11))\n",
    "print(l)"
   ]
  },
  {
   "cell_type": "code",
   "execution_count": 6,
   "id": "961822e7-4784-40e4-baee-8b0be58e4f25",
   "metadata": {},
   "outputs": [
    {
     "data": {
      "text/plain": [
       "array([ 1,  2,  3,  4,  5,  6,  7,  8,  9, 10])"
      ]
     },
     "execution_count": 6,
     "metadata": {},
     "output_type": "execute_result"
    }
   ],
   "source": [
    "import numpy as np\n",
    "my_array = np.array(l)\n",
    "my_array\n"
   ]
  },
  {
   "cell_type": "code",
   "execution_count": 7,
   "id": "a64f23ef-9a0e-40db-8f22-ef6eaaf5c3ac",
   "metadata": {},
   "outputs": [
    {
     "data": {
      "text/plain": [
       "numpy.ndarray"
      ]
     },
     "execution_count": 7,
     "metadata": {},
     "output_type": "execute_result"
    }
   ],
   "source": [
    "type(my_array)"
   ]
  },
  {
   "cell_type": "code",
   "execution_count": 1,
   "id": "8f1189df-51e7-4996-989e-29f4d4c3ae56",
   "metadata": {},
   "outputs": [],
   "source": [
    "#my_array.shape()"
   ]
  },
  {
   "cell_type": "code",
   "execution_count": 9,
   "id": "7aa7b8f8-a0e6-4bcf-838c-c86e89a6c323",
   "metadata": {},
   "outputs": [
    {
     "name": "stdout",
     "output_type": "stream",
     "text": [
      "1\n",
      "2\n",
      "3\n",
      "4\n",
      "5\n",
      "6\n",
      "7\n",
      "8\n",
      "9\n",
      "10\n"
     ]
    }
   ],
   "source": [
    "for i in my_array:\n",
    "    print(i)"
   ]
  },
  {
   "cell_type": "code",
   "execution_count": 10,
   "id": "6d8f5992-65d8-4889-b81d-d5dac498e0c0",
   "metadata": {},
   "outputs": [],
   "source": [
    "# import numpy as np\n",
    "# my_array=([1,2,3,4],[5,6,7,8])\n",
    "# my_array2=np.reshape(my_array,(3,2))\n",
    "# print(my_array2)"
   ]
  },
  {
   "cell_type": "code",
   "execution_count": 18,
   "id": "8c81c2b1-7ccd-4d3b-b6a9-77b03baba6d4",
   "metadata": {},
   "outputs": [
    {
     "data": {
      "text/plain": [
       "array([ 1,  2,  3,  4,  5,  6,  7,  8,  9, 10])"
      ]
     },
     "execution_count": 18,
     "metadata": {},
     "output_type": "execute_result"
    }
   ],
   "source": [
    "import numpy as np\n",
    "l = list(range(1,11))\n",
    "my_array = np.array(l)\n",
    "my_array\n",
    "my_array1 = np.arange(1,5)\n",
    "my_array1\n",
    "my_array"
   ]
  },
  {
   "cell_type": "code",
   "execution_count": 21,
   "id": "7bc10577-77db-49fc-86b1-be9bef2119aa",
   "metadata": {},
   "outputs": [
    {
     "data": {
      "text/plain": [
       "array([3, 5, 7, 9])"
      ]
     },
     "execution_count": 21,
     "metadata": {},
     "output_type": "execute_result"
    }
   ],
   "source": [
    "my_array1 + (2,3,4,5)"
   ]
  },
  {
   "cell_type": "code",
   "execution_count": 25,
   "id": "07eea41e-fdf1-4273-accc-26b218a29e42",
   "metadata": {},
   "outputs": [
    {
     "data": {
      "text/plain": [
       "array([0, 1, 1, 2], dtype=int32)"
      ]
     },
     "execution_count": 25,
     "metadata": {},
     "output_type": "execute_result"
    }
   ],
   "source": [
    "my_array1 // 2\n"
   ]
  },
  {
   "cell_type": "code",
   "execution_count": 26,
   "id": "43c4096d-4a18-44d4-a9a5-81fc99bab44c",
   "metadata": {},
   "outputs": [
    {
     "data": {
      "text/plain": [
       "array([ 1,  4,  9, 16])"
      ]
     },
     "execution_count": 26,
     "metadata": {},
     "output_type": "execute_result"
    }
   ],
   "source": [
    "my_array1 ** 2"
   ]
  },
  {
   "cell_type": "code",
   "execution_count": 27,
   "id": "7f61af50-7a99-4c8f-9bef-1ef90c1503c7",
   "metadata": {},
   "outputs": [
    {
     "data": {
      "text/plain": [
       "array([ 2,  4,  8, 16], dtype=int32)"
      ]
     },
     "execution_count": 27,
     "metadata": {},
     "output_type": "execute_result"
    }
   ],
   "source": [
    "#exponential array becomes exponent to 2\n",
    "2** my_array1"
   ]
  },
  {
   "cell_type": "code",
   "execution_count": 30,
   "id": "aa82f4fe-c7c5-4433-88b7-cb21c4375f12",
   "metadata": {},
   "outputs": [
    {
     "data": {
      "text/plain": [
       "array([1.        , 1.41421356, 1.73205081, 2.        ])"
      ]
     },
     "execution_count": 30,
     "metadata": {},
     "output_type": "execute_result"
    }
   ],
   "source": [
    "my_array1 **0.5"
   ]
  },
  {
   "cell_type": "code",
   "execution_count": 31,
   "id": "0a08daf9-69f8-4442-a34e-bcab290ef407",
   "metadata": {},
   "outputs": [
    {
     "data": {
      "text/plain": [
       "array([1.        , 1.41421356, 1.73205081, 2.        ])"
      ]
     },
     "execution_count": 31,
     "metadata": {},
     "output_type": "execute_result"
    }
   ],
   "source": [
    "np.sqrt(my_array1)"
   ]
  },
  {
   "cell_type": "code",
   "execution_count": 32,
   "id": "20485059-497a-4ecb-9d68-100f469868b1",
   "metadata": {},
   "outputs": [
    {
     "data": {
      "text/plain": [
       "array([0.        , 0.69314718, 1.09861229, 1.38629436])"
      ]
     },
     "execution_count": 32,
     "metadata": {},
     "output_type": "execute_result"
    }
   ],
   "source": [
    "np.log(my_array1)"
   ]
  },
  {
   "cell_type": "code",
   "execution_count": 33,
   "id": "2fce7293-caf0-4d4e-9b54-f71094598208",
   "metadata": {},
   "outputs": [
    {
     "data": {
      "text/plain": [
       "array([ 2.71828183,  7.3890561 , 20.08553692, 54.59815003])"
      ]
     },
     "execution_count": 33,
     "metadata": {},
     "output_type": "execute_result"
    }
   ],
   "source": [
    "np.exp(my_array1)"
   ]
  },
  {
   "cell_type": "code",
   "execution_count": 36,
   "id": "cd47e7c1-2e2d-477c-8629-1b7995728542",
   "metadata": {},
   "outputs": [
    {
     "data": {
      "text/plain": [
       "10"
      ]
     },
     "execution_count": 36,
     "metadata": {},
     "output_type": "execute_result"
    }
   ],
   "source": [
    "#diff methods to calculate sum of the array\n",
    "my_array1.sum()\n",
    "np.sum(my_array1)\n",
    "sum(my_array1)"
   ]
  },
  {
   "cell_type": "code",
   "execution_count": 45,
   "id": "7f76051e-afcb-437a-93a9-397f0e2f2fdf",
   "metadata": {},
   "outputs": [
    {
     "data": {
      "text/plain": [
       "4"
      ]
     },
     "execution_count": 45,
     "metadata": {},
     "output_type": "execute_result"
    }
   ],
   "source": [
    "#diff methods to calculate size of the array\n",
    "len(my_array1)\n",
    "my_array1.size"
   ]
  },
  {
   "cell_type": "code",
   "execution_count": 46,
   "id": "6bfe6735-c9f9-49a9-ab1f-b3d5551d6b25",
   "metadata": {},
   "outputs": [
    {
     "data": {
      "text/plain": [
       "array([[1., 0., 0., 0., 0.],\n",
       "       [0., 1., 0., 0., 0.],\n",
       "       [0., 0., 1., 0., 0.],\n",
       "       [0., 0., 0., 1., 0.],\n",
       "       [0., 0., 0., 0., 1.]])"
      ]
     },
     "execution_count": 46,
     "metadata": {},
     "output_type": "execute_result"
    }
   ],
   "source": [
    "np.eye(5)"
   ]
  },
  {
   "cell_type": "code",
   "execution_count": 53,
   "id": "5c9ab282-2b34-477e-ad62-8db8a9ee7ed9",
   "metadata": {},
   "outputs": [
    {
     "data": {
      "text/plain": [
       "array([  0.,  25.,  50.,  75., 100.])"
      ]
     },
     "execution_count": 53,
     "metadata": {},
     "output_type": "execute_result"
    }
   ],
   "source": [
    "np.linspace(0,100,5)"
   ]
  },
  {
   "cell_type": "code",
   "execution_count": 59,
   "id": "b9415715-dca6-4812-9d84-cbe5d836a63d",
   "metadata": {},
   "outputs": [
    {
     "data": {
      "text/plain": [
       "array([[8, 8, 8],\n",
       "       [8, 8, 8]])"
      ]
     },
     "execution_count": 59,
     "metadata": {},
     "output_type": "execute_result"
    }
   ],
   "source": [
    "np.full((2,3),8)"
   ]
  },
  {
   "cell_type": "code",
   "execution_count": 60,
   "id": "2a19e006-dcc2-4086-83af-150650e00a95",
   "metadata": {},
   "outputs": [
    {
     "data": {
      "text/plain": [
       "array([[0.99200849, 0.36403383, 0.52092214],\n",
       "       [0.08513432, 0.36636961, 0.56311126]])"
      ]
     },
     "execution_count": 60,
     "metadata": {},
     "output_type": "execute_result"
    }
   ],
   "source": [
    "np.random.rand(2,3)"
   ]
  },
  {
   "cell_type": "code",
   "execution_count": 62,
   "id": "1010e502-ca96-4959-a9ec-16f6f4342967",
   "metadata": {},
   "outputs": [
    {
     "data": {
      "text/plain": [
       "array([[96.83536942, 46.51747908,  6.2453843 ],\n",
       "       [44.5566181 , 18.56759779, 86.13307868]])"
      ]
     },
     "execution_count": 62,
     "metadata": {},
     "output_type": "execute_result"
    }
   ],
   "source": [
    "np.random.rand(2,3)*100"
   ]
  },
  {
   "cell_type": "code",
   "execution_count": 66,
   "id": "3714d616-00ca-40c2-a398-95585ce8a82e",
   "metadata": {},
   "outputs": [
    {
     "data": {
      "text/plain": [
       "array([[0, 5, 2],\n",
       "       [5, 0, 6]])"
      ]
     },
     "execution_count": 66,
     "metadata": {},
     "output_type": "execute_result"
    }
   ],
   "source": [
    "np.random.randint(8, size = (2,3))"
   ]
  },
  {
   "cell_type": "code",
   "execution_count": 19,
   "id": "7dbdeb1f-7bca-46ed-85f6-6da7c632a929",
   "metadata": {},
   "outputs": [
    {
     "data": {
      "text/plain": [
       "array([ 1,  2,  3,  4,  5,  6,  7,  8,  9, 10, 11, 12])"
      ]
     },
     "execution_count": 19,
     "metadata": {},
     "output_type": "execute_result"
    }
   ],
   "source": [
    "import numpy as np\n",
    "a = list(range(1,13))\n",
    "l = np.array(a)\n",
    "l"
   ]
  },
  {
   "cell_type": "code",
   "execution_count": 20,
   "id": "4e386e45-40b7-48e0-9877-7a39c329b11f",
   "metadata": {},
   "outputs": [
    {
     "data": {
      "text/plain": [
       "array([[ 1,  2,  3,  4],\n",
       "       [ 5,  6,  7,  8],\n",
       "       [ 9, 10, 11, 12]])"
      ]
     },
     "execution_count": 20,
     "metadata": {},
     "output_type": "execute_result"
    }
   ],
   "source": [
    "import numpy as np\n",
    "l = l.reshape(3,4)\n",
    "l"
   ]
  },
  {
   "cell_type": "code",
   "execution_count": 27,
   "id": "3bac79c4-b5ab-4e90-a9d4-557ddde9e6a9",
   "metadata": {},
   "outputs": [
    {
     "data": {
      "text/plain": [
       "dtype('int32')"
      ]
     },
     "execution_count": 27,
     "metadata": {},
     "output_type": "execute_result"
    }
   ],
   "source": [
    "l.dtype"
   ]
  },
  {
   "cell_type": "code",
   "execution_count": 28,
   "id": "4d75ef81-4364-4de4-afdc-8ca300fa7ae5",
   "metadata": {},
   "outputs": [
    {
     "data": {
      "text/plain": [
       "(3, 4)"
      ]
     },
     "execution_count": 28,
     "metadata": {},
     "output_type": "execute_result"
    }
   ],
   "source": [
    "l.shape"
   ]
  },
  {
   "cell_type": "code",
   "execution_count": 42,
   "id": "4c5e06d3-be63-48a7-8c04-2ff545055d14",
   "metadata": {},
   "outputs": [
    {
     "data": {
      "text/plain": [
       "array([[ 1,  2,  3,  4,  5,  6],\n",
       "       [ 7,  8,  9, 10, 11, 12]])"
      ]
     },
     "execution_count": 42,
     "metadata": {},
     "output_type": "execute_result"
    }
   ],
   "source": [
    "l.reshape(2,6)"
   ]
  },
  {
   "cell_type": "code",
   "execution_count": 33,
   "id": "93f0d0ac-53eb-488b-8b3e-34923c5e2b39",
   "metadata": {},
   "outputs": [
    {
     "data": {
      "text/plain": [
       "array([ 1,  2,  3,  4,  5,  6,  7,  8,  9, 10, 11, 12])"
      ]
     },
     "execution_count": 33,
     "metadata": {},
     "output_type": "execute_result"
    }
   ],
   "source": [
    "import numpy as np\n",
    "a = list(range(1,13))\n",
    "l = np.array(a)\n",
    "l"
   ]
  },
  {
   "cell_type": "code",
   "execution_count": 40,
   "id": "f66bcb36-dd15-4c4a-95cd-48017aa94c4a",
   "metadata": {},
   "outputs": [
    {
     "data": {
      "text/plain": [
       "array([2, 4, 6])"
      ]
     },
     "execution_count": 40,
     "metadata": {},
     "output_type": "execute_result"
    }
   ],
   "source": [
    "np.arange(2,8,2)"
   ]
  },
  {
   "cell_type": "code",
   "execution_count": 32,
   "id": "45238e8c-372a-4ec8-8280-f83f02c4de1e",
   "metadata": {},
   "outputs": [
    {
     "data": {
      "text/plain": [
       "array([[ 1,  2,  3,  4],\n",
       "       [ 5,  6,  7,  8],\n",
       "       [ 9, 10, 11, 12]])"
      ]
     },
     "execution_count": 32,
     "metadata": {},
     "output_type": "execute_result"
    }
   ],
   "source": [
    "l"
   ]
  },
  {
   "cell_type": "code",
   "execution_count": 46,
   "id": "7596ceb1-70c7-4e26-9983-762d4530589c",
   "metadata": {},
   "outputs": [
    {
     "data": {
      "text/plain": [
       "array([129455.,   4578.])"
      ]
     },
     "execution_count": 46,
     "metadata": {},
     "output_type": "execute_result"
    }
   ],
   "source": [
    "import numpy as np\n",
    "np.loadtxt('txt1.txt')"
   ]
  },
  {
   "cell_type": "code",
   "execution_count": 62,
   "id": "b653a30b-75d5-484d-b63c-50ed4f6f6c08",
   "metadata": {},
   "outputs": [
    {
     "data": {
      "text/plain": [
       "array([ 45. ,  56. , 666. ,  45. ,  45.4, 499. ])"
      ]
     },
     "execution_count": 62,
     "metadata": {},
     "output_type": "execute_result"
    }
   ],
   "source": [
    "np.genfromtxt('txt1.csv',delimiter = ',')"
   ]
  },
  {
   "cell_type": "code",
   "execution_count": 78,
   "id": "ba905105-9e63-4c28-abc7-61c1d419cdaa",
   "metadata": {},
   "outputs": [
    {
     "data": {
      "text/plain": [
       "array([ 50., 566.])"
      ]
     },
     "execution_count": 78,
     "metadata": {},
     "output_type": "execute_result"
    }
   ],
   "source": [
    "np.savetxt('txt1.csv',[50,566],delimiter=',')\n",
    "\n",
    "np.genfromtxt('txt1.csv',delimiter = ',')"
   ]
  }
 ],
 "metadata": {
  "kernelspec": {
   "display_name": "Python 3 (ipykernel)",
   "language": "python",
   "name": "python3"
  },
  "language_info": {
   "codemirror_mode": {
    "name": "ipython",
    "version": 3
   },
   "file_extension": ".py",
   "mimetype": "text/x-python",
   "name": "python",
   "nbconvert_exporter": "python",
   "pygments_lexer": "ipython3",
   "version": "3.12.2"
  }
 },
 "nbformat": 4,
 "nbformat_minor": 5
}
