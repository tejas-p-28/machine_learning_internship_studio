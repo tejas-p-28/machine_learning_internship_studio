{
 "cells": [
  {
   "cell_type": "code",
   "execution_count": 1,
   "id": "fafdc2c7-1b55-4bc4-9f06-3bedd7f80ac6",
   "metadata": {},
   "outputs": [],
   "source": [
    "from sklearn.datasets import load_iris\n",
    "import pandas as pd"
   ]
  },
  {
   "cell_type": "code",
   "execution_count": 17,
   "id": "b5d1701a-24fd-40f7-a3bf-fc7d3e130f1e",
   "metadata": {},
   "outputs": [
    {
     "name": "stdout",
     "output_type": "stream",
     "text": [
      "['sepal length (cm)', 'sepal width (cm)', 'petal length (cm)', 'petal width (cm)']\n",
      "['setosa' 'versicolor' 'virginica']\n",
      "[[5.1 3.5 1.4 0.2]\n",
      " [4.9 3.  1.4 0.2]\n",
      " [4.7 3.2 1.3 0.2]\n",
      " [4.6 3.1 1.5 0.2]\n",
      " [5.  3.6 1.4 0.2]\n",
      " [5.4 3.9 1.7 0.4]\n",
      " [4.6 3.4 1.4 0.3]\n",
      " [5.  3.4 1.5 0.2]\n",
      " [4.4 2.9 1.4 0.2]\n",
      " [4.9 3.1 1.5 0.1]] [0 0 0 0 0 0 0 0 0 0 0 0 0 0 0 0 0 0 0 0 0 0 0 0 0 0 0 0 0 0 0 0 0 0 0 0 0\n",
      " 0 0 0 0 0 0 0 0 0 0 0 0 0 1 1 1 1 1 1 1 1 1 1 1 1 1 1 1 1 1 1 1 1 1 1 1 1\n",
      " 1 1 1 1 1 1 1 1 1 1 1 1 1 1 1 1 1 1 1 1 1 1 1 1 1 1 2 2 2 2 2 2 2 2 2 2 2\n",
      " 2 2 2 2 2 2 2 2 2 2 2 2 2 2 2 2 2 2 2 2 2 2 2 2 2 2 2 2 2 2 2 2 2 2 2 2 2\n",
      " 2 2]\n"
     ]
    }
   ],
   "source": [
    "iris = load_iris()\n",
    "x = iris.data\n",
    "y = iris.target\n",
    "feature_names = iris.feature_names\n",
    "target_names = iris.target_names\n",
    "print(feature_names)\n",
    "print(target_names)\n",
    "print(x[:10],y)"
   ]
  },
  {
   "cell_type": "code",
   "execution_count": 3,
   "id": "dee72279-7828-47b3-8195-5976e3bc7a20",
   "metadata": {},
   "outputs": [],
   "source": [
    "from sklearn.model_selection import train_test_split\n"
   ]
  },
  {
   "cell_type": "code",
   "execution_count": 4,
   "id": "6ceecfe6-7724-4c20-b8a7-917df4019345",
   "metadata": {},
   "outputs": [
    {
     "name": "stdout",
     "output_type": "stream",
     "text": [
      "(105, 4)\n",
      "(45, 4)\n",
      "(105,)\n",
      "(45,)\n"
     ]
    }
   ],
   "source": [
    "x_train,x_test,y_train,y_test = train_test_split(x,y , test_size = 0.3)\n",
    "print(x_train.shape)\n",
    "print(x_test.shape)\n",
    "print(y_train.shape)\n",
    "print(y_test.shape)"
   ]
  },
  {
   "cell_type": "markdown",
   "id": "343c03af-2741-4817-8d3a-775cdd701f01",
   "metadata": {},
   "source": [
    "- Train Data"
   ]
  },
  {
   "cell_type": "code",
   "execution_count": 5,
   "id": "6f1ff31d-f365-4c11-84bc-54f7cf246c97",
   "metadata": {},
   "outputs": [],
   "source": [
    "from sklearn.neighbors import KNeighborsClassifier\n",
    "from sklearn import metrics\n",
    "classifier_knn = KNeighborsClassifier(n_neighbors = 3)\n",
    "classifier_knn.fit(x_train,y_train)\n",
    "y_pred = classifier_knn.predict(x_test)"
   ]
  },
  {
   "cell_type": "code",
   "execution_count": 6,
   "id": "1cc087b0-9d18-4bb5-a3eb-fc22bc4b65db",
   "metadata": {},
   "outputs": [
    {
     "name": "stdout",
     "output_type": "stream",
     "text": [
      "Accuracy : 0.9777777777777777\n"
     ]
    }
   ],
   "source": [
    "print('Accuracy :',metrics.accuracy_score(y_test,y_pred))"
   ]
  },
  {
   "cell_type": "code",
   "execution_count": 7,
   "id": "0890fe8e-e563-4183-9096-33b2c7dcfc8d",
   "metadata": {},
   "outputs": [
    {
     "name": "stdout",
     "output_type": "stream",
     "text": [
      "['virginica', 'setosa', 'versicolor', 'versicolor']\n"
     ]
    }
   ],
   "source": [
    "sample = [[3,2,5,6],[4,1,1,2],[4,3,2,4],[4,1,1,4]]\n",
    "preds = classifier_knn.predict(sample)\n",
    "pred_species = [iris.target_names[p] for p in preds]\n",
    "print(pred_species)"
   ]
  },
  {
   "cell_type": "markdown",
   "id": "94305947-e058-4758-a40e-03230b861dbb",
   "metadata": {},
   "source": [
    "# Binarization"
   ]
  },
  {
   "cell_type": "code",
   "execution_count": 8,
   "id": "7fc47189-d62d-4a88-b1a0-5400642c6a2b",
   "metadata": {},
   "outputs": [
    {
     "data": {
      "text/plain": [
       "array([[1., 0., 1.],\n",
       "       [0., 0., 1.],\n",
       "       [1., 0., 0.]])"
      ]
     },
     "execution_count": 8,
     "metadata": {},
     "output_type": "execute_result"
    }
   ],
   "source": [
    "import numpy as np\n",
    "from sklearn import preprocessing\n",
    "input_data = [[2.1,-1.9,5.5],[-1.0,0,4],[3,-3,-4]]\n",
    "binarized_data = preprocessing.Binarizer(threshold = 0.8).transform(input_data)\n",
    "binarized_data"
   ]
  },
  {
   "cell_type": "markdown",
   "id": "281448c1-9e37-44aa-ac2c-ff6e6e2e6fe1",
   "metadata": {},
   "source": [
    "# mean removal"
   ]
  },
  {
   "cell_type": "code",
   "execution_count": 9,
   "id": "dab70381-8648-443c-8081-e86c3270ffcc",
   "metadata": {},
   "outputs": [
    {
     "name": "stdout",
     "output_type": "stream",
     "text": [
      "mean :  [ 1.36666667 -1.63333333  1.83333333]\n",
      "std deviation : [1.7133463  1.23917535 4.16999867]\n",
      "[2.22044605e-16 1.48029737e-16 0.00000000e+00]\n"
     ]
    }
   ],
   "source": [
    "import numpy as np\n",
    "from sklearn import preprocessing\n",
    "input_data = np.array([[2.1,-1.9,5.5],[-1.0,0,4],[3,-3,-4]])\n",
    "print('mean : ',input_data.mean(axis=0))\n",
    "print('std deviation :',input_data.std(axis = 0))\n",
    "\n",
    "#mean removal\n",
    "data_scaled = preprocessing.scale(input_data)\n",
    "print(data_scaled.mean(axis=0))"
   ]
  },
  {
   "cell_type": "markdown",
   "id": "c603cedc-8d03-4629-a523-b113ccd10d51",
   "metadata": {},
   "source": [
    "# scaling"
   ]
  },
  {
   "cell_type": "code",
   "execution_count": 10,
   "id": "8f28cacc-0d94-4ca1-8f2f-338abeff8690",
   "metadata": {},
   "outputs": [
    {
     "data": {
      "text/plain": [
       "array([[3.875     , 1.83333333, 5.        ],\n",
       "       [0.        , 5.        , 4.21052632],\n",
       "       [5.        , 0.        , 0.        ]])"
      ]
     },
     "execution_count": 10,
     "metadata": {},
     "output_type": "execute_result"
    }
   ],
   "source": [
    "import numpy as np\n",
    "from sklearn import preprocessing\n",
    "input_data = np.array([[2.1,-1.9,5.5],[-1.0,0,4],[3,-3,-4]])\n",
    "data_scaler = preprocessing.MinMaxScaler(feature_range = (0,5))\n",
    "data_scaled = data_scaler.fit_transform(input_data)\n",
    "data_scaled"
   ]
  },
  {
   "cell_type": "markdown",
   "id": "b487ddff-778c-460b-ab1a-638304339186",
   "metadata": {},
   "source": [
    "# normalization l1"
   ]
  },
  {
   "cell_type": "code",
   "execution_count": 11,
   "id": "abe5fa83-8418-467d-86c8-deaa26740504",
   "metadata": {},
   "outputs": [
    {
     "data": {
      "text/plain": [
       "array([[ 0.22105263, -0.2       ,  0.57894737],\n",
       "       [-0.2       ,  0.        ,  0.8       ],\n",
       "       [ 0.3       , -0.3       , -0.4       ]])"
      ]
     },
     "execution_count": 11,
     "metadata": {},
     "output_type": "execute_result"
    }
   ],
   "source": [
    "import numpy as np\n",
    "from sklearn import preprocessing\n",
    "input_data = np.array([[2.1,-1.9,5.5],[-1.0,0,4],[3,-3,-4]])\n",
    "normalized_l1 = preprocessing.normalize(input_data, norm='l1')\n",
    "normalized_l1"
   ]
  },
  {
   "cell_type": "markdown",
   "id": "aba34ecf-9b24-44af-99ed-fa16e2fe5c71",
   "metadata": {},
   "source": [
    "# normalized l2"
   ]
  },
  {
   "cell_type": "code",
   "execution_count": 12,
   "id": "557842a4-0901-49ab-be60-bbd01947a7eb",
   "metadata": {},
   "outputs": [
    {
     "data": {
      "text/plain": [
       "array([[ 0.33946114, -0.30713151,  0.88906489],\n",
       "       [-0.24253563,  0.        ,  0.9701425 ],\n",
       "       [ 0.51449576, -0.51449576, -0.68599434]])"
      ]
     },
     "execution_count": 12,
     "metadata": {},
     "output_type": "execute_result"
    }
   ],
   "source": [
    "import numpy as np\n",
    "from sklearn import preprocessing\n",
    "input_data = np.array([[2.1,-1.9,5.5],[-1.0,0,4],[3,-3,-4]])\n",
    "normalized_l2 = preprocessing.normalize(input_data,norm='l2')\n",
    "normalized_l2"
   ]
  },
  {
   "cell_type": "markdown",
   "id": "c99b4fd7-eded-45fb-84d4-b15458bdd189",
   "metadata": {},
   "source": [
    "# missing values"
   ]
  },
  {
   "cell_type": "code",
   "execution_count": 13,
   "id": "0d37c4cf-4919-41ca-910d-05b3d9ee629b",
   "metadata": {},
   "outputs": [
    {
     "data": {
      "text/html": [
       "<div>\n",
       "<style scoped>\n",
       "    .dataframe tbody tr th:only-of-type {\n",
       "        vertical-align: middle;\n",
       "    }\n",
       "\n",
       "    .dataframe tbody tr th {\n",
       "        vertical-align: top;\n",
       "    }\n",
       "\n",
       "    .dataframe thead th {\n",
       "        text-align: right;\n",
       "    }\n",
       "</style>\n",
       "<table border=\"1\" class=\"dataframe\">\n",
       "  <thead>\n",
       "    <tr style=\"text-align: right;\">\n",
       "      <th></th>\n",
       "      <th>0</th>\n",
       "      <th>1</th>\n",
       "    </tr>\n",
       "  </thead>\n",
       "  <tbody>\n",
       "    <tr>\n",
       "      <th>0</th>\n",
       "      <td>x</td>\n",
       "      <td>y</td>\n",
       "    </tr>\n",
       "    <tr>\n",
       "      <th>1</th>\n",
       "      <td>NaN</td>\n",
       "      <td>x</td>\n",
       "    </tr>\n",
       "    <tr>\n",
       "      <th>2</th>\n",
       "      <td>y</td>\n",
       "      <td>NaN</td>\n",
       "    </tr>\n",
       "  </tbody>\n",
       "</table>\n",
       "</div>"
      ],
      "text/plain": [
       "     0    1\n",
       "0    x    y\n",
       "1  NaN    x\n",
       "2    y  NaN"
      ]
     },
     "execution_count": 13,
     "metadata": {},
     "output_type": "execute_result"
    }
   ],
   "source": [
    "import pandas as pd\n",
    "import numpy as np\n",
    "df = pd.DataFrame([['x','y'],[np.nan,'x'],['y',np.nan]])\n",
    "df"
   ]
  },
  {
   "cell_type": "code",
   "execution_count": 14,
   "id": "eb77a2ce-7f37-4124-9fe6-3784879154d7",
   "metadata": {},
   "outputs": [
    {
     "name": "stdout",
     "output_type": "stream",
     "text": [
      "[['x' 'y']\n",
      " ['x' 'x']\n",
      " ['y' 'x']]\n"
     ]
    }
   ],
   "source": [
    "from sklearn.impute import SimpleImputer\n",
    "imp = SimpleImputer(strategy='most_frequent')\n",
    "print(imp.fit_transform(df))"
   ]
  },
  {
   "cell_type": "code",
   "execution_count": 1,
   "id": "9854ba81-a74a-40fc-bda5-21e8220a6348",
   "metadata": {},
   "outputs": [
    {
     "data": {
      "text/plain": [
       "Index(['sepal_length', 'sepal_width', 'petal_length', 'petal_width',\n",
       "       'species'],\n",
       "      dtype='object')"
      ]
     },
     "execution_count": 1,
     "metadata": {},
     "output_type": "execute_result"
    }
   ],
   "source": [
    "import numpy as np\n",
    "import pandas as pd\n",
    "import matplotlib.pyplot as plt\n",
    "import seaborn as sns\n",
    "iris = pd.read_csv('IRIS.csv')\n",
    "iris.columns"
   ]
  },
  {
   "cell_type": "code",
   "execution_count": 2,
   "id": "b3072463-590d-4786-bf0f-635eed4e2560",
   "metadata": {},
   "outputs": [
    {
     "data": {
      "text/plain": [
       "(150, 5)"
      ]
     },
     "execution_count": 2,
     "metadata": {},
     "output_type": "execute_result"
    }
   ],
   "source": [
    "iris.shape"
   ]
  },
  {
   "cell_type": "code",
   "execution_count": 3,
   "id": "463e815b-ab42-4991-a61d-822fab1caa1e",
   "metadata": {},
   "outputs": [
    {
     "data": {
      "text/plain": [
       "species\n",
       "Iris-setosa        50\n",
       "Iris-versicolor    50\n",
       "Iris-virginica     50\n",
       "Name: count, dtype: int64"
      ]
     },
     "execution_count": 3,
     "metadata": {},
     "output_type": "execute_result"
    }
   ],
   "source": [
    "iris['species'].value_counts()\n"
   ]
  },
  {
   "cell_type": "code",
   "execution_count": 4,
   "id": "0d2ae441-9c04-46ff-a4ca-6ffc98467b18",
   "metadata": {},
   "outputs": [
    {
     "data": {
      "image/png": "[encoded data removed]",
      "text/plain": [
       "<Figure size 640x480 with 1 Axes>"
      ]
     },
     "metadata": {},
     "output_type": "display_data"
    }
   ],
   "source": [
    "iris_setso = iris.loc[iris['species']=='setosa'];\n",
    "iris_virginica = iris.loc[iris['species']=='virginica'];\n",
    "iris_versicolor = iris.loc[iris['species']=='versicolor'];\n",
    "plt.plot(iris_setso['petal_length'],np.zeros_like(iris_setso['petal_length']),'o')\n",
    "plt.plot(iris_versicolor['petal_length'],np.zeros_like(iris_versicolor['petal_length']),'o')\n",
    "plt.plot(iris_virginica['petal_length'],np.zeros_like(iris_virginica['petal_length']),'o')\n",
    "\n",
    "plt.grid()\n",
    "plt.show()"
   ]
  },
  {
   "cell_type": "code",
   "execution_count": 5,
   "id": "e68f1fd0-ca80-482d-8fac-055813a59f28",
   "metadata": {},
   "outputs": [
    {
     "data": {
      "image/png": "[encoded data removed]",
      "text/plain": [
       "<Figure size 640x480 with 1 Axes>"
      ]
     },
     "metadata": {},
     "output_type": "display_data"
    }
   ],
   "source": [
    "import matplotlib.pyplot as plt\n",
    "plt.plot(range(20), range(20))\n",
    "plt.show()"
   ]
  },
  {
   "cell_type": "code",
   "execution_count": 6,
   "id": "e4d680c2-5c7a-4a7b-8486-0cbf0dfb9d49",
   "metadata": {},
   "outputs": [
    {
     "data": {
      "image/png": "[encoded data removed]",
      "text/plain": [
       "<Figure size 640x480 with 1 Axes>"
      ]
     },
     "metadata": {},
     "output_type": "display_data"
    }
   ],
   "source": [
    "iris.plot(kind='scatter',x='sepal_length',y='sepal_width')\n",
    "plt.show()"
   ]
  },
  {
   "cell_type": "code",
   "execution_count": 7,
   "id": "3d5fb139-f4f2-46b3-83a5-7445e3a66cd6",
   "metadata": {},
   "outputs": [
    {
     "data": {
      "image/png": "[encoded data removed]",
      "text/plain": [
       "<Figure size 1000x200 with 1 Axes>"
      ]
     },
     "metadata": {},
     "output_type": "display_data"
    }
   ],
   "source": [
    "import seaborn as sns\n",
    "import matplotlib.pyplot as plt\n",
    "\n",
    "# Load the iris dataset\n",
    "iris = sns.load_dataset(\"iris\")\n",
    "\n",
    "# Plotting a 1D scatter plot for sepal_length\n",
    "plt.figure(figsize=(10, 2))\n",
    "plt.scatter(iris['sepal_length'], [0]*len(iris), alpha=0.5, s=100)\n",
    "plt.xlabel('Sepal Length')\n",
    "plt.title('1D Scatter Plot of Sepal Length')\n",
    "plt.grid()\n",
    "plt.show()\n"
   ]
  },
  {
   "cell_type": "code",
   "execution_count": null,
   "id": "cc56a1d7-2f13-4262-8844-e87d2a457692",
   "metadata": {},
   "outputs": [],
   "source": []
  },
  {
   "cell_type": "code",
   "execution_count": null,
   "id": "057e6d23-d1f6-4b57-bac5-4d68484a50da",
   "metadata": {},
   "outputs": [],
   "source": []
  }
 ],
 "metadata": {
  "kernelspec": {
   "display_name": "Python 3 (ipykernel)",
   "language": "python",
   "name": "python3"
  },
  "language_info": {
   "codemirror_mode": {
    "name": "ipython",
    "version": 3
   },
   "file_extension": ".py",
   "mimetype": "text/x-python",
   "name": "python",
   "nbconvert_exporter": "python",
   "pygments_lexer": "ipython3",
   "version": "3.12.2"
  }
 },
 "nbformat": 4,
 "nbformat_minor": 5
}
