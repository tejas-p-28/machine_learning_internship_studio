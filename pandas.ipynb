{
 "cells": [
  {
   "cell_type": "code",
   "execution_count": 12,
   "id": "fb784fb3-1c40-494b-915c-af47e0a83382",
   "metadata": {},
   "outputs": [
    {
     "name": "stdout",
     "output_type": "stream",
     "text": [
      "0    a\n",
      "1    b\n",
      "2    c\n",
      "dtype: object\n",
      "101    a\n",
      "102    b\n",
      "103    c\n",
      "dtype: object\n",
      "object\n"
     ]
    },
    {
     "data": {
      "text/plain": [
       "101    a\n",
       "102    b\n",
       "103    c\n",
       "dtype: object"
      ]
     },
     "execution_count": 12,
     "metadata": {},
     "output_type": "execute_result"
    }
   ],
   "source": [
    "import numpy as np \n",
    "import pandas as pd\n",
    "data = np.array(['a','b','c'])\n",
    "s = pd.Series(data)\n",
    "print(s)\n",
    "s[0]\n",
    "s = pd.Series(data, index = [101,102,103])\n",
    "print(s)\n",
    "print(s.dtype)\n",
    "s.copy()"
   ]
  },
  {
   "cell_type": "code",
   "execution_count": 20,
   "id": "a760b9a7-30ab-4e45-9336-d3586ccfa85b",
   "metadata": {},
   "outputs": [
    {
     "name": "stdout",
     "output_type": "stream",
     "text": [
      "101    hie\n",
      "102    bye\n",
      "103    oye\n",
      "dtype: object\n",
      "101    hie\n",
      "dtype: object\n"
     ]
    }
   ],
   "source": [
    "s = pd.Series(data = ['hie','bye','oye'], index=[101,102,103])\n",
    "print(s)\n",
    "print (s[[101]]) \n"
   ]
  },
  {
   "cell_type": "code",
   "execution_count": 28,
   "id": "1542c6f9-eb22-4659-81f4-18caca4e9b94",
   "metadata": {},
   "outputs": [
    {
     "name": "stdout",
     "output_type": "stream",
     "text": [
      "   0  1  2  3\n",
      "0  2  3  4  5\n",
      "1  6  7  8  9\n"
     ]
    }
   ],
   "source": [
    "data = [2,3,4,5],[6,7,8,9]\n",
    "df = pd.DataFrame(data)\n",
    "print(df)"
   ]
  },
  {
   "cell_type": "code",
   "execution_count": 41,
   "id": "1ac0ac2d-2966-4655-94d6-f2d992c51741",
   "metadata": {},
   "outputs": [
    {
     "data": {
      "text/html": [
       "<div>\n",
       "<style scoped>\n",
       "    .dataframe tbody tr th:only-of-type {\n",
       "        vertical-align: middle;\n",
       "    }\n",
       "\n",
       "    .dataframe tbody tr th {\n",
       "        vertical-align: top;\n",
       "    }\n",
       "\n",
       "    .dataframe thead th {\n",
       "        text-align: right;\n",
       "    }\n",
       "</style>\n",
       "<table border=\"1\" class=\"dataframe\">\n",
       "  <thead>\n",
       "    <tr style=\"text-align: right;\">\n",
       "      <th></th>\n",
       "      <th>name</th>\n",
       "      <th>age</th>\n",
       "    </tr>\n",
       "  </thead>\n",
       "  <tbody>\n",
       "    <tr>\n",
       "      <th>0</th>\n",
       "      <td>tejas</td>\n",
       "      <td>22</td>\n",
       "    </tr>\n",
       "    <tr>\n",
       "      <th>1</th>\n",
       "      <td>pravin</td>\n",
       "      <td>32</td>\n",
       "    </tr>\n",
       "    <tr>\n",
       "      <th>2</th>\n",
       "      <td>dipak</td>\n",
       "      <td>33</td>\n",
       "    </tr>\n",
       "  </tbody>\n",
       "</table>\n",
       "</div>"
      ],
      "text/plain": [
       "     name  age\n",
       "0   tejas   22\n",
       "1  pravin   32\n",
       "2   dipak   33"
      ]
     },
     "execution_count": 41,
     "metadata": {},
     "output_type": "execute_result"
    }
   ],
   "source": [
    "data = [['tejas',22],['pravin',32],['dipak',33]]\n",
    "df = pd.DataFrame(data,columns = ['name','age'])\n",
    "df"
   ]
  },
  {
   "cell_type": "code",
   "execution_count": 45,
   "id": "69d6cc8b-ea51-4060-8012-cb26eb783dba",
   "metadata": {},
   "outputs": [
    {
     "name": "stdout",
     "output_type": "stream",
     "text": [
      "[10 20 30]\n",
      "0    10\n",
      "1    20\n",
      "2    30\n",
      "dtype: int32\n"
     ]
    }
   ],
   "source": [
    "data = np.array([10,20,30])\n",
    "print(data)\n",
    "new_data = pd.Series(data)\n",
    "print(new_data)"
   ]
  },
  {
   "cell_type": "code",
   "execution_count": null,
   "id": "5176eba7-05b7-48ca-8dad-e433fa41a972",
   "metadata": {},
   "outputs": [],
   "source": []
  }
 ],
 "metadata": {
  "kernelspec": {
   "display_name": "Python 3 (ipykernel)",
   "language": "python",
   "name": "python3"
  },
  "language_info": {
   "codemirror_mode": {
    "name": "ipython",
    "version": 3
   },
   "file_extension": ".py",
   "mimetype": "text/x-python",
   "name": "python",
   "nbconvert_exporter": "python",
   "pygments_lexer": "ipython3",
   "version": "3.12.2"
  }
 },
 "nbformat": 4,
 "nbformat_minor": 5
}
