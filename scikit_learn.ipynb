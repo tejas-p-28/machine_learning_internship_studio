{
 "cells": [
  {
   "cell_type": "code",
   "execution_count": 13,
   "id": "2c322052-b094-4557-a659-4c2860e81bea",
   "metadata": {},
   "outputs": [
    {
     "name": "stdout",
     "output_type": "stream",
     "text": [
      "feature name:  ['sepal length (cm)', 'sepal width (cm)', 'petal length (cm)', 'petal width (cm)']\n",
      "target names:  ['setosa' 'versicolor' 'virginica']\n",
      "first 10 element of x: [[5.1 3.5 1.4 0.2]\n",
      " [4.9 3.  1.4 0.2]\n",
      " [4.7 3.2 1.3 0.2]\n",
      " [4.6 3.1 1.5 0.2]\n",
      " [5.  3.6 1.4 0.2]\n",
      " [5.4 3.9 1.7 0.4]\n",
      " [4.6 3.4 1.4 0.3]\n",
      " [5.  3.4 1.5 0.2]\n",
      " [4.4 2.9 1.4 0.2]\n",
      " [4.9 3.1 1.5 0.1]]\n"
     ]
    }
   ],
   "source": [
    "#loading dataset\n",
    "from sklearn.datasets import load_iris\n",
    "iris = load_iris()\n",
    "x = iris.data\n",
    "y = iris.target\n",
    "feature_names = iris.feature_names\n",
    "target_names = iris.target_names\n",
    "print('feature name: ' , feature_names[:10])\n",
    "print('target names: ' , target_names[:10])\n",
    "print('first 10 element of x:',x[:10])"
   ]
  },
  {
   "cell_type": "code",
   "execution_count": 21,
   "id": "1a947f5b-05e6-46c8-a38d-dc0427bc3dcb",
   "metadata": {},
   "outputs": [
    {
     "name": "stdout",
     "output_type": "stream",
     "text": [
      "(105, 4)\n",
      "(45, 4)\n",
      "(45,)\n",
      "(105,)\n"
     ]
    }
   ],
   "source": [
    "#splitting the dataset\n",
    "from sklearn.datasets import load_iris\n",
    "from sklearn.model_selection import train_test_split\n",
    "iris = load_iris()\n",
    "x = iris.data\n",
    "y = iris.target\n",
    "x_train,x_test,y_train,y_test = train_test_split(x,y,test_size=0.3, random_state = 1)\n",
    "print(x_train.shape)\n",
    "print(x_test.shape)\n",
    "print(y_test.shape)\n",
    "print(y_train.shape)"
   ]
  },
  {
   "cell_type": "code",
   "execution_count": 24,
   "id": "691f953a-ba50-4705-b60d-bc5afc791f6d",
   "metadata": {},
   "outputs": [
    {
     "name": "stdout",
     "output_type": "stream",
     "text": [
      "accuracy: 0.9777777777777777\n"
     ]
    }
   ],
   "source": [
    "from sklearn.neighbors import KNeighborsClassifier\n",
    "from sklearn import metrics\n",
    "classifier_knn = KNeighborsClassifier(n_neighbors = 3) \n",
    "classifier_knn.fit(x_train,y_train)\n",
    "y_pred = classifier_knn.predict(x_test)\n",
    "print('accuracy:',metrics.accuracy_score(y_test,y_pred))"
   ]
  },
  {
   "cell_type": "code",
   "execution_count": 15,
   "id": "2fcec67b-c0c7-401b-8957-9acef8bb374c",
   "metadata": {},
   "outputs": [],
   "source": [
    "# from sklearn.datasets import load_wine\n",
    "# # wine = load_wine(return_x_y, as_frame)\n",
    "# print(wine)"
   ]
  },
  {
   "cell_type": "code",
   "execution_count": 30,
   "id": "77449a35-4c07-4618-84f5-ead85b0b68da",
   "metadata": {},
   "outputs": [
    {
     "name": "stdout",
     "output_type": "stream",
     "text": [
      "[[1. 0. 1.]\n",
      " [0. 1. 1.]\n",
      " [0. 0. 1.]\n",
      " [1. 1. 0.]]\n"
     ]
    }
   ],
   "source": [
    "import numpy as np\n",
    "from sklearn import preprocessing \n",
    "input_data = np.array([[2.1,-1.9,5.5],[-1.5,2.4,3.5],[0.5,-7.9,5.6],[5.9,2.3,-5.8]])\n",
    "binarized_data = preprocessing.Binarizer(threshold=0.5).transform(input_data)\n",
    "print(binarized_data)"
   ]
  },
  {
   "cell_type": "code",
   "execution_count": 31,
   "id": "1f04f250-2921-45cb-b663-b89fbb1ba5df",
   "metadata": {},
   "outputs": [
    {
     "name": "stdout",
     "output_type": "stream",
     "text": [
      "Mean: [ 1.75  -1.275  2.2  ]\n",
      "stddev: [2.71431391 4.20022321 4.69414529]\n",
      "removed mean: [1.11022302e-16 0.00000000e+00 0.00000000e+00]\n",
      "removed std: [1. 1. 1.]\n"
     ]
    }
   ],
   "source": [
    "#mean removal\n",
    "print('Mean:',input_data.mean(axis=0))\n",
    "print('stddev:',input_data.std(axis=0))\n",
    "data_scaled = preprocessing.scale(input_data)\n",
    "print('removed mean:',data_scaled.mean(axis=0))\n",
    "print('removed std:',data_scaled.std(axis=0))"
   ]
  },
  {
   "cell_type": "code",
   "execution_count": 32,
   "id": "a845b2c3-bf2f-4d03-85a1-9e2b5d901c99",
   "metadata": {},
   "outputs": [
    {
     "name": "stdout",
     "output_type": "stream",
     "text": [
      "[[0.48648649 0.58252427 0.99122807]\n",
      " [0.         1.         0.81578947]\n",
      " [0.27027027 0.         1.        ]\n",
      " [1.         0.99029126 0.        ]]\n"
     ]
    }
   ],
   "source": [
    "#scaling\n",
    "data_scaler_minmax = preprocessing.MinMaxScaler(feature_range=(0,1))\n",
    "data_scaled_minmax = data_scaler_minmax.fit_transform(input_data)\n",
    "print(data_scaled_minmax)"
   ]
  },
  {
   "cell_type": "code",
   "execution_count": null,
   "id": "b14b76ab-e03f-44f8-8900-c5dc7fb93015",
   "metadata": {},
   "outputs": [],
   "source": []
  }
 ],
 "metadata": {
  "kernelspec": {
   "display_name": "Python 3 (ipykernel)",
   "language": "python",
   "name": "python3"
  },
  "language_info": {
   "codemirror_mode": {
    "name": "ipython",
    "version": 3
   },
   "file_extension": ".py",
   "mimetype": "text/x-python",
   "name": "python",
   "nbconvert_exporter": "python",
   "pygments_lexer": "ipython3",
   "version": "3.12.2"
  }
 },
 "nbformat": 4,
 "nbformat_minor": 5
}
