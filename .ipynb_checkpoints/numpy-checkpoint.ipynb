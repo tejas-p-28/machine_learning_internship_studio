{
 "cells": [
  {
   "cell_type": "code",
   "execution_count": 4,
   "id": "5b40c0b1-d380-43a5-ac69-c30f2fc4e1de",
   "metadata": {},
   "outputs": [
    {
     "name": "stdout",
     "output_type": "stream",
     "text": [
      "[1, 2, 3, 4, 5, 6, 7, 8, 9, 10]\n"
     ]
    }
   ],
   "source": [
    "#creating numpy\n",
    "l = list(range(1,11))\n",
    "print(l)"
   ]
  },
  {
   "cell_type": "code",
   "execution_count": 6,
   "id": "961822e7-4784-40e4-baee-8b0be58e4f25",
   "metadata": {},
   "outputs": [
    {
     "data": {
      "text/plain": [
       "array([ 1,  2,  3,  4,  5,  6,  7,  8,  9, 10])"
      ]
     },
     "execution_count": 6,
     "metadata": {},
     "output_type": "execute_result"
    }
   ],
   "source": [
    "import numpy as np\n",
    "my_array = np.array(l)\n",
    "my_array\n"
   ]
  },
  {
   "cell_type": "code",
   "execution_count": 7,
   "id": "a64f23ef-9a0e-40db-8f22-ef6eaaf5c3ac",
   "metadata": {},
   "outputs": [
    {
     "data": {
      "text/plain": [
       "numpy.ndarray"
      ]
     },
     "execution_count": 7,
     "metadata": {},
     "output_type": "execute_result"
    }
   ],
   "source": [
    "type(my_array)"
   ]
  },
  {
   "cell_type": "code",
   "execution_count": 8,
   "id": "8f1189df-51e7-4996-989e-29f4d4c3ae56",
   "metadata": {},
   "outputs": [
    {
     "ename": "TypeError",
     "evalue": "'tuple' object is not callable",
     "output_type": "error",
     "traceback": [
      "\u001b[1;31m---------------------------------------------------------------------------\u001b[0m",
      "\u001b[1;31mTypeError\u001b[0m                                 Traceback (most recent call last)",
      "Cell \u001b[1;32mIn[8], line 1\u001b[0m\n\u001b[1;32m----> 1\u001b[0m \u001b[43mmy_array\u001b[49m\u001b[38;5;241;43m.\u001b[39;49m\u001b[43mshape\u001b[49m\u001b[43m(\u001b[49m\u001b[43m)\u001b[49m\n",
      "\u001b[1;31mTypeError\u001b[0m: 'tuple' object is not callable"
     ]
    }
   ],
   "source": [
    "#my_array.shape()"
   ]
  },
  {
   "cell_type": "code",
   "execution_count": 9,
   "id": "7aa7b8f8-a0e6-4bcf-838c-c86e89a6c323",
   "metadata": {},
   "outputs": [
    {
     "name": "stdout",
     "output_type": "stream",
     "text": [
      "1\n",
      "2\n",
      "3\n",
      "4\n",
      "5\n",
      "6\n",
      "7\n",
      "8\n",
      "9\n",
      "10\n"
     ]
    }
   ],
   "source": [
    "for i in my_array:\n",
    "    print(i)"
   ]
  },
  {
   "cell_type": "code",
   "execution_count": 10,
   "id": "6d8f5992-65d8-4889-b81d-d5dac498e0c0",
   "metadata": {},
   "outputs": [],
   "source": [
    "# import numpy as np\n",
    "# my_array=([1,2,3,4],[5,6,7,8])\n",
    "# my_array2=np.reshape(my_array,(3,2))\n",
    "# print(my_array2)"
   ]
  },
  {
   "cell_type": "code",
   "execution_count": 18,
   "id": "8c81c2b1-7ccd-4d3b-b6a9-77b03baba6d4",
   "metadata": {},
   "outputs": [
    {
     "data": {
      "text/plain": [
       "array([ 1,  2,  3,  4,  5,  6,  7,  8,  9, 10])"
      ]
     },
     "execution_count": 18,
     "metadata": {},
     "output_type": "execute_result"
    }
   ],
   "source": [
    "import numpy as np\n",
    "l = list(range(1,11))\n",
    "my_array = np.array(l)\n",
    "my_array\n",
    "my_array1 = np.arange(1,5)\n",
    "my_array1\n",
    "my_array"
   ]
  },
  {
   "cell_type": "code",
   "execution_count": 21,
   "id": "7bc10577-77db-49fc-86b1-be9bef2119aa",
   "metadata": {},
   "outputs": [
    {
     "data": {
      "text/plain": [
       "array([3, 5, 7, 9])"
      ]
     },
     "execution_count": 21,
     "metadata": {},
     "output_type": "execute_result"
    }
   ],
   "source": [
    "my_array1 + (2,3,4,5)"
   ]
  },
  {
   "cell_type": "code",
   "execution_count": 25,
   "id": "07eea41e-fdf1-4273-accc-26b218a29e42",
   "metadata": {},
   "outputs": [
    {
     "data": {
      "text/plain": [
       "array([0, 1, 1, 2], dtype=int32)"
      ]
     },
     "execution_count": 25,
     "metadata": {},
     "output_type": "execute_result"
    }
   ],
   "source": [
    "my_array1 // 2\n"
   ]
  },
  {
   "cell_type": "code",
   "execution_count": 26,
   "id": "43c4096d-4a18-44d4-a9a5-81fc99bab44c",
   "metadata": {},
   "outputs": [
    {
     "data": {
      "text/plain": [
       "array([ 1,  4,  9, 16])"
      ]
     },
     "execution_count": 26,
     "metadata": {},
     "output_type": "execute_result"
    }
   ],
   "source": [
    "my_array1 ** 2"
   ]
  },
  {
   "cell_type": "code",
   "execution_count": 27,
   "id": "7f61af50-7a99-4c8f-9bef-1ef90c1503c7",
   "metadata": {},
   "outputs": [
    {
     "data": {
      "text/plain": [
       "array([ 2,  4,  8, 16], dtype=int32)"
      ]
     },
     "execution_count": 27,
     "metadata": {},
     "output_type": "execute_result"
    }
   ],
   "source": [
    "#exponential array becomes exponent to 2\n",
    "2** my_array1"
   ]
  },
  {
   "cell_type": "code",
   "execution_count": 30,
   "id": "aa82f4fe-c7c5-4433-88b7-cb21c4375f12",
   "metadata": {},
   "outputs": [
    {
     "data": {
      "text/plain": [
       "array([1.        , 1.41421356, 1.73205081, 2.        ])"
      ]
     },
     "execution_count": 30,
     "metadata": {},
     "output_type": "execute_result"
    }
   ],
   "source": [
    "my_array1 **0.5"
   ]
  },
  {
   "cell_type": "code",
   "execution_count": 31,
   "id": "0a08daf9-69f8-4442-a34e-bcab290ef407",
   "metadata": {},
   "outputs": [
    {
     "data": {
      "text/plain": [
       "array([1.        , 1.41421356, 1.73205081, 2.        ])"
      ]
     },
     "execution_count": 31,
     "metadata": {},
     "output_type": "execute_result"
    }
   ],
   "source": [
    "np.sqrt(my_array1)"
   ]
  },
  {
   "cell_type": "code",
   "execution_count": 32,
   "id": "20485059-497a-4ecb-9d68-100f469868b1",
   "metadata": {},
   "outputs": [
    {
     "data": {
      "text/plain": [
       "array([0.        , 0.69314718, 1.09861229, 1.38629436])"
      ]
     },
     "execution_count": 32,
     "metadata": {},
     "output_type": "execute_result"
    }
   ],
   "source": [
    "np.log(my_array1)"
   ]
  },
  {
   "cell_type": "code",
   "execution_count": 33,
   "id": "2fce7293-caf0-4d4e-9b54-f71094598208",
   "metadata": {},
   "outputs": [
    {
     "data": {
      "text/plain": [
       "array([ 2.71828183,  7.3890561 , 20.08553692, 54.59815003])"
      ]
     },
     "execution_count": 33,
     "metadata": {},
     "output_type": "execute_result"
    }
   ],
   "source": [
    "np.exp(my_array1)"
   ]
  },
  {
   "cell_type": "code",
   "execution_count": 36,
   "id": "cd47e7c1-2e2d-477c-8629-1b7995728542",
   "metadata": {},
   "outputs": [
    {
     "data": {
      "text/plain": [
       "10"
      ]
     },
     "execution_count": 36,
     "metadata": {},
     "output_type": "execute_result"
    }
   ],
   "source": [
    "#diff methods to calculate sum of the array\n",
    "my_array1.sum()\n",
    "np.sum(my_array1)\n",
    "sum(my_array1)"
   ]
  },
  {
   "cell_type": "code",
   "execution_count": 37,
   "id": "723c55e0-b09e-435b-b47b-60652f1a0f17",
   "metadata": {},
   "outputs": [
    {
     "data": {
      "text/plain": [
       "10"
      ]
     },
     "execution_count": 37,
     "metadata": {},
     "output_type": "execute_result"
    }
   ],
   "source": []
  },
  {
   "cell_type": "code",
   "execution_count": 38,
   "id": "2a868270-c87c-4e6d-99a5-8f5fea0af882",
   "metadata": {},
   "outputs": [
    {
     "data": {
      "text/plain": [
       "10"
      ]
     },
     "execution_count": 38,
     "metadata": {},
     "output_type": "execute_result"
    }
   ],
   "source": []
  },
  {
   "cell_type": "code",
   "execution_count": null,
   "id": "7f76051e-afcb-437a-93a9-397f0e2f2fdf",
   "metadata": {},
   "outputs": [],
   "source": []
  }
 ],
 "metadata": {
  "kernelspec": {
   "display_name": "Python 3 (ipykernel)",
   "language": "python",
   "name": "python3"
  },
  "language_info": {
   "codemirror_mode": {
    "name": "ipython",
    "version": 3
   },
   "file_extension": ".py",
   "mimetype": "text/x-python",
   "name": "python",
   "nbconvert_exporter": "python",
   "pygments_lexer": "ipython3",
   "version": "3.12.2"
  }
 },
 "nbformat": 4,
 "nbformat_minor": 5
}
