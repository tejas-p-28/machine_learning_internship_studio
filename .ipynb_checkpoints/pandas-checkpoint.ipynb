{
 "cells": [
  {
   "cell_type": "code",
   "execution_count": 12,
   "id": "fb784fb3-1c40-494b-915c-af47e0a83382",
   "metadata": {},
   "outputs": [
    {
     "name": "stdout",
     "output_type": "stream",
     "text": [
      "0    a\n",
      "1    b\n",
      "2    c\n",
      "dtype: object\n",
      "101    a\n",
      "102    b\n",
      "103    c\n",
      "dtype: object\n",
      "object\n"
     ]
    },
    {
     "data": {
      "text/plain": [
       "101    a\n",
       "102    b\n",
       "103    c\n",
       "dtype: object"
      ]
     },
     "execution_count": 12,
     "metadata": {},
     "output_type": "execute_result"
    }
   ],
   "source": [
    "import numpy as np \n",
    "import pandas as pd\n",
    "data = np.array(['a','b','c'])\n",
    "s = pd.Series(data)\n",
    "print(s)\n",
    "s[0]\n",
    "s = pd.Series(data, index = [101,102,103])\n",
    "print(s)\n",
    "print(s.dtype)\n",
    "s.copy()"
   ]
  },
  {
   "cell_type": "code",
   "execution_count": null,
   "id": "a760b9a7-30ab-4e45-9336-d3586ccfa85b",
   "metadata": {},
   "outputs": [],
   "source": []
  }
 ],
 "metadata": {
  "kernelspec": {
   "display_name": "Python 3 (ipykernel)",
   "language": "python",
   "name": "python3"
  },
  "language_info": {
   "codemirror_mode": {
    "name": "ipython",
    "version": 3
   },
   "file_extension": ".py",
   "mimetype": "text/x-python",
   "name": "python",
   "nbconvert_exporter": "python",
   "pygments_lexer": "ipython3",
   "version": "3.12.2"
  }
 },
 "nbformat": 4,
 "nbformat_minor": 5
}
